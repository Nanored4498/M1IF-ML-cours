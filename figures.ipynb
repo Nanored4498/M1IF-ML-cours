{
 "cells": [
  {
   "cell_type": "markdown",
   "metadata": {},
   "source": [
    "# Chapitre 2"
   ]
  },
  {
   "cell_type": "markdown",
   "metadata": {},
   "source": [
    "## Introduction"
   ]
  },
  {
   "cell_type": "code",
   "execution_count": 37,
   "metadata": {},
   "outputs": [
    {
     "name": "stdout",
     "output_type": "stream",
     "text": [
      "\\draw[fill] (0.357143, 0.812214) circle (0.10);\n",
      "\\draw[fill] (0.948918, 1.143265) circle (0.10);\n",
      "\\draw[fill] (1.187496, 1.678099) circle (0.10);\n",
      "\\draw[fill] (1.777419, 1.333357) circle (0.10);\n",
      "\\draw[fill] (2.258380, 2.091978) circle (0.10);\n",
      "\\draw[fill] (3.509795, 2.169851) circle (0.10);\n",
      "\\draw[fill] (4.554073, 2.923194) circle (0.10);\n",
      "\\draw[domain=0:5.000000, smooth, variable=\\x, red] \n",
      "     plot ({\\x}, {0.788978 + \\x * 0.454260});\n"
     ]
    },
    {
     "data": {
      "image/png": "[encoded data removed]",
      "text/plain": [
       "<Figure size 432x288 with 1 Axes>"
      ]
     },
     "metadata": {
      "needs_background": "light"
     },
     "output_type": "display_data"
    }
   ],
   "source": [
    "import numpy as np\n",
    "import pylab as pl\n",
    "from sklearn.linear_model import LinearRegression\n",
    "\n",
    "f = lambda x: 0.4 + 3/5 * x\n",
    "N = 7\n",
    "xs = [5/7/2]\n",
    "for i in range(N-1):\n",
    "    xs.append(xs[i] + np.random.rand(1)[0] * 2 * 5 / 7)\n",
    "ys = f(np.array(xs)) + np.random.rand(N)*1.2 - 0.6\n",
    "for i in range(N):\n",
    "    line = \"\\draw[fill] (%f, %f) circle (0.10);\"\n",
    "    print(line % (xs[i], ys[i]))\n",
    "\n",
    "xp = [[a] for a in xs]\n",
    "reg = LinearRegression().fit(xp, ys)\n",
    "line = \"\\draw[domain=0:%f, smooth, variable=\\\\x, red] \\n \\\n",
    "    plot ({\\\\x}, {%f + \\\\x * %f});\"\n",
    "print(line % (max(5, xs[-1]+0.2), reg.predict([[0]]), reg.coef_))\n",
    "\n",
    "pl.scatter(xs, ys)\n",
    "pl.show()"
   ]
  },
  {
   "cell_type": "markdown",
   "metadata": {},
   "source": [
    "## Coefficient d'apprentissage"
   ]
  },
  {
   "cell_type": "code",
   "execution_count": 52,
   "metadata": {},
   "outputs": [
    {
     "name": "stdout",
     "output_type": "stream",
     "text": [
      "\\draw[domain=1.181978:6.956124, smooth, variable=\\x, blue] \n",
      "     plot ({\\x}, {0.5 * (\\x - 4)^2});\n",
      "\\draw[->, greenTikz] (2.000000, 2.000000) -- (3.500000, 0.125000);\n",
      "\\draw[->, red] (2.000000, 2.000000) -- (6.160000, 2.332800);\n",
      "\\draw[->, greenTikz] (3.500000, 0.125000) -- (3.875000, 0.007812);\n",
      "\\draw[->, red] (6.160000, 2.332800) -- (1.667200, 2.720978);\n",
      "\\draw[->, greenTikz] (3.875000, 0.007812) -- (3.968750, 0.000488);\n",
      "\\draw[->, red] (1.667200, 2.720978) -- (6.519424, 3.173749);\n"
     ]
    },
    {
     "data": {
      "image/png": "[encoded data removed]",
      "text/plain": [
       "<Figure size 432x288 with 1 Axes>"
      ]
     },
     "metadata": {
      "needs_background": "light"
     },
     "output_type": "display_data"
    }
   ],
   "source": [
    "f = lambda x: 0.5*(x - 4)**2\n",
    "fp = lambda x: (x - 4)\n",
    "\n",
    "def descente(a, x0, n):\n",
    "    res = [x0]\n",
    "    for _ in range(n):\n",
    "        res.append(res[-1] - a*fp(res[-1]))\n",
    "    return res\n",
    "\n",
    "N = 3\n",
    "d1 = descente(0.75, 2, N)\n",
    "d2 = descente(2.08, 2, N)\n",
    "miX, maX = min(d1 + d2), max(d1 + d2)\n",
    "xs = [miX + (maX - miX) * (i-10) / 100 for i in range(120)]\n",
    "ys = f(np.array(xs))\n",
    "y1s = f(np.array(d1))\n",
    "y2s = f(np.array(d2))\n",
    "line = \"\\draw[domain=%f:%f, smooth, variable=\\\\x, blue] \\n \\\n",
    "    plot ({\\\\x}, {0.5 * (\\\\x - 4)^2});\"\n",
    "print(line % (xs[0], xs[-1]))\n",
    "line = \"\\draw[->, %s] (%f, %f) -- (%f, %f);\"\n",
    "for i in range(N):\n",
    "    print(line % (\"greenTikz\", d1[i], y1s[i], d1[i+1], y1s[i+1]))\n",
    "    print(line % (\"red\", d2[i], y2s[i], d2[i+1], y2s[i+1]))\n",
    "\n",
    "pl.plot(xs, ys)\n",
    "pl.plot(d1, y1s, \"g\")\n",
    "pl.plot(d2, y2s, \"r\")\n",
    "pl.show()"
   ]
  },
  {
   "cell_type": "code",
   "execution_count": null,
   "metadata": {},
   "outputs": [],
   "source": []
  }
 ],
 "metadata": {
  "kernelspec": {
   "display_name": "Python 3",
   "language": "python",
   "name": "python3"
  },
  "language_info": {
   "codemirror_mode": {
    "name": "ipython",
    "version": 3
   },
   "file_extension": ".py",
   "mimetype": "text/x-python",
   "name": "python",
   "nbconvert_exporter": "python",
   "pygments_lexer": "ipython3",
   "version": "3.6.7"
  }
 },
 "nbformat": 4,
 "nbformat_minor": 2
}
